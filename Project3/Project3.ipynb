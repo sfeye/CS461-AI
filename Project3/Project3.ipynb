{
  "nbformat": 4,
  "nbformat_minor": 0,
  "metadata": {
    "colab": {
      "name": "Project3.ipynb",
      "provenance": [],
      "collapsed_sections": [],
      "authorship_tag": "ABX9TyMhTwVS9bL0KqKxHoFLQUNL",
      "include_colab_link": true
    },
    "kernelspec": {
      "name": "python3",
      "display_name": "Python 3"
    }
  },
  "cells": [
    {
      "cell_type": "markdown",
      "metadata": {
        "id": "view-in-github",
        "colab_type": "text"
      },
      "source": [
        "<a href=\"https://colab.research.google.com/github/sfeye/CS461-AI/blob/master/Project3/Project3.ipynb\" target=\"_parent\"><img src=\"https://colab.research.google.com/assets/colab-badge.svg\" alt=\"Open In Colab\"/></a>"
      ]
    },
    {
      "cell_type": "markdown",
      "metadata": {
        "id": "8NErYDpijfYQ"
      },
      "source": [
        "## Installs / Imports"
      ]
    },
    {
      "cell_type": "markdown",
      "metadata": {
        "id": "XpN4QIPWO-Fm"
      },
      "source": [
        "To start we need to confirm that both Tensorflow, Keras and Pandas are installed."
      ]
    },
    {
      "cell_type": "code",
      "metadata": {
        "id": "_EtvxRJXJIdU"
      },
      "source": [
        "!pip install tensorflow\n",
        "!pip install pandas\n",
        "!pip install numpy\n",
        "!pip install keras"
      ],
      "execution_count": null,
      "outputs": []
    },
    {
      "cell_type": "markdown",
      "metadata": {
        "id": "1fB4TUPvPKaL"
      },
      "source": [
        "Next we import these dependencies."
      ]
    },
    {
      "cell_type": "code",
      "metadata": {
        "id": "301z4XjxJWjw"
      },
      "source": [
        "import tensorflow as tf\n",
        "import pandas as pd\n",
        "import numpy as np"
      ],
      "execution_count": 57,
      "outputs": []
    },
    {
      "cell_type": "markdown",
      "metadata": {
        "id": "3dJn0wtjjlm8"
      },
      "source": [
        "## IO & pd.read"
      ]
    },
    {
      "cell_type": "markdown",
      "metadata": {
        "id": "KXLI4045PWv0"
      },
      "source": [
        "Now we use google.colab files.upload() to pull in the file and use pandas to read the csv."
      ]
    },
    {
      "cell_type": "code",
      "metadata": {
        "id": "lvEjwnlvJpik"
      },
      "source": [
        "from google.colab import files\n",
        "# file = files.upload()\n",
        "\n",
        "training_dataset = pd.read_csv(\"training_data.csv\")\n",
        "testing_dataset = pd.read_csv(\"testing_data.csv\")"
      ],
      "execution_count": 58,
      "outputs": []
    },
    {
      "cell_type": "markdown",
      "metadata": {
        "id": "nN0Kb-o1jsf0"
      },
      "source": [
        "## Preprocessing"
      ]
    },
    {
      "cell_type": "markdown",
      "metadata": {
        "id": "etSdLHzYckUD"
      },
      "source": [
        "Now we transform each column. First we will start with Label Encoding."
      ]
    },
    {
      "cell_type": "code",
      "metadata": {
        "id": "6RUJVTN6gF3B"
      },
      "source": [
        "from sklearn.preprocessing import LabelEncoder\n",
        "\n",
        "label_encoder = LabelEncoder()\n",
        "\n",
        "training_dataset[\"Gender\"] = label_encoder.fit_transform(training_dataset[\"Gender\"].values)\n",
        "testing_dataset[\"Gender\"] = label_encoder.transform(testing_dataset[\"Gender\"].values)\n",
        "\n",
        "training_dataset[\"Age\"] = label_encoder.fit_transform(training_dataset[\"Age\"].values)\n",
        "testing_dataset[\"Age\"] = label_encoder.transform(testing_dataset[\"Age\"].values)\n",
        "\n",
        "training_dataset[\"Vehicle_Age\"] = label_encoder.fit_transform(training_dataset[\"Vehicle_Age\"].values)\n",
        "testing_dataset[\"Vehicle_Age\"] = label_encoder.transform(testing_dataset[\"Vehicle_Age\"].values)\n",
        "\n",
        "training_dataset[\"Policy_Sales_Channel\"] = label_encoder.fit_transform(training_dataset[\"Policy_Sales_Channel\"].values)\n",
        "testing_dataset[\"Policy_Sales_Channel\"] = label_encoder.transform(testing_dataset[\"Policy_Sales_Channel\"].values)"
      ],
      "execution_count": 59,
      "outputs": []
    },
    {
      "cell_type": "markdown",
      "metadata": {
        "id": "FFjFhRSCkjEe"
      },
      "source": [
        "Now we do the 1-Hot Encoding."
      ]
    },
    {
      "cell_type": "code",
      "metadata": {
        "id": "uCxKMK4Ej8va"
      },
      "source": [
        "from sklearn.preprocessing import OneHotEncoder\n",
        "\n",
        "features = [\"Gender\",\"Age\",\"Region_Code\",\"Vehicle_Age\",\"Policy_Sales_Channel\"]\n",
        "training_one_hot = training_dataset[features].values\n",
        "testing_one_hot = testing_dataset[features].values \n",
        "\n",
        "one_hot_encoder = OneHotEncoder(sparse=False)\n",
        "training_one_hot = one_hot_encoder.fit_transform (training_one_hot)\n",
        "testing_one_hot = one_hot_encoder.fit_transform (testing_one_hot)"
      ],
      "execution_count": 60,
      "outputs": []
    },
    {
      "cell_type": "markdown",
      "metadata": {
        "id": "VZJZyzi_zc7Y"
      },
      "source": [
        "We still need to standardize some of the columns."
      ]
    },
    {
      "cell_type": "code",
      "metadata": {
        "id": "6moU0O4Izq11"
      },
      "source": [
        "from sklearn.preprocessing import StandardScaler\n",
        "\n",
        "training_dataset[['Annual_Premium', 'Vintage']] = pd.DataFrame(StandardScaler().fit_transform(training_dataset[['Annual_Premium', 'Vintage']]))\n",
        "testing_dataset[['Annual_Premium', 'Vintage']] = pd.DataFrame(StandardScaler().fit_transform(testing_dataset[['Annual_Premium', 'Vintage']]))"
      ],
      "execution_count": 61,
      "outputs": []
    },
    {
      "cell_type": "markdown",
      "metadata": {
        "id": "gdT-N-A2kpPN"
      },
      "source": [
        "Then we can encode those responses some more to make it easier to classify Regions and Policy Sales Channels. Towards the end we prepare for training.\n",
        "\n"
      ]
    },
    {
      "cell_type": "code",
      "metadata": {
        "id": "JJG88tmZkvfn"
      },
      "source": [
        "def get_response_coded_feature_dict(alpha, feature, df):\n",
        "    value_count = df[feature].value_counts()\n",
        "    n = df[feature].nunique()\n",
        "    feature_dict = dict()\n",
        "    for i, denominator in value_count.items():\n",
        "        vec = []        \n",
        "        for k in range(0,2):\n",
        "            cls_cnt = df.loc[(df['Response']==k) & (df[feature]==i)]\n",
        "            vec.append((cls_cnt.shape[0] + alpha)/ (denominator + n*alpha))\n",
        "        feature_dict[i]=vec\n",
        "    return feature_dict\n",
        "\n",
        "def get_response_coded_feature(alpha, feature, train_df,test_df):\n",
        "    response_coded_feature_dict = get_response_coded_feature_dict(alpha, feature, train_df)\n",
        "    train_value_count = train_df[feature].value_counts()\n",
        "    n = train_df[feature].nunique()\n",
        "    train_response_coded_feature = []\n",
        "    test_response_coded_feature = []\n",
        "    for index, row in train_df.iterrows():\n",
        "        if row[feature] in dict(train_value_count).keys():\n",
        "            train_response_coded_feature.append(response_coded_feature_dict[row[feature]])\n",
        "        else:\n",
        "            train_response_coded_feature.append([1/n,1/n])\n",
        "    for index, row in test_df.iterrows():\n",
        "        if row[feature] in dict(train_value_count).keys():\n",
        "            test_response_coded_feature.append(response_coded_feature_dict[row[feature]])\n",
        "        else:\n",
        "            test_response_coded_feature.append([1/n,1/n])        \n",
        "    return train_response_coded_feature,test_response_coded_feature\n",
        "\n",
        "\n",
        "\n",
        "train_region_code_feature_responseCoding,test_region_code_feature_responseCoding = np.array(get_response_coded_feature(1, \"Region_Code\", training_dataset, testing_dataset))\n",
        "\n",
        "train_Policy_Sales_Channel_feature_responseCoding,test_Policy_Sales_Channel_feature_responseCoding = np.array(get_response_coded_feature(1, \"Policy_Sales_Channel\", training_dataset, testing_dataset))\n",
        "\n",
        "X = np.hstack((training_one_hot, train_region_code_feature_responseCoding,\n",
        "               train_Policy_Sales_Channel_feature_responseCoding,\n",
        "               training_dataset[[\"Age\",\"Annual_Premium\",\"Vintage\"]]))\n",
        "y = training_dataset[\"Response\"].values\n",
        "\n",
        "from sklearn.preprocessing import MinMaxScaler\n",
        "\n",
        "minmaxscaler = MinMaxScaler()\n",
        "X =minmaxscaler.fit_transform(X)\n",
        "\n",
        "from sklearn.model_selection import train_test_split\n",
        "\n",
        "X_train,X_test,y_train,y_test = train_test_split(X ,y ,test_size=0.3, random_state=42)"
      ],
      "execution_count": 62,
      "outputs": []
    },
    {
      "cell_type": "markdown",
      "metadata": {
        "id": "ndkc51lIjw-F"
      },
      "source": [
        "## Training"
      ]
    },
    {
      "cell_type": "code",
      "metadata": {
        "id": "mlyiShaODQAY"
      },
      "source": [
        "def batch_predict(clf, data):\n",
        "    y_data_pred = []\n",
        "    tr_loop = data.shape[0] - data.shape[0]%1000\n",
        "    for i in range(0, tr_loop, 1000):\n",
        "        y_data_pred.extend(clf.predict_proba(data[i:i+1000])[:,1])\n",
        "    if data.shape[0]%1000 !=0:\n",
        "        y_data_pred.extend(clf.predict_proba(data[tr_loop:])[:,1])\n",
        "    \n",
        "    return y_data_pred"
      ],
      "execution_count": 66,
      "outputs": []
    },
    {
      "cell_type": "code",
      "metadata": {
        "id": "NIqYLwL_DQO4"
      },
      "source": [
        "def find_best_threshold(threshould, fpr, tpr):   \n",
        "  t = threshould[np.argmax(tpr*(1-fpr))]\n",
        "  print(\"The maximum value of tpr*(1-fpr)\", max(tpr*(1-fpr)), \"for threshold\", np.round(t,3))\n",
        "  return t\n",
        " \n",
        "def predict_with_best_t(proba, threshould):\n",
        "  predictions = []\n",
        "  for i in proba:\n",
        "    if (i >= threshould):\n",
        "      predictions.append(1)\n",
        "    else:\n",
        "      predictions.append(0)\n",
        "  return predictions"
      ],
      "execution_count": 67,
      "outputs": []
    },
    {
      "cell_type": "markdown",
      "metadata": {
        "id": "_Y5JkelNCXPq"
      },
      "source": [
        "## Classification"
      ]
    },
    {
      "cell_type": "markdown",
      "metadata": {
        "id": "CWHwdxE7CavB"
      },
      "source": [
        "For the classification I ended up going with the Naive Bays."
      ]
    },
    {
      "cell_type": "code",
      "metadata": {
        "id": "8I-MTkaGCgPc"
      },
      "source": [
        "from sklearn.naive_bayes import MultinomialNB\n",
        "import math\n",
        "from sklearn.model_selection import GridSearchCV\n",
        "\n",
        "grid_params ={'alpha':[10**x for x in range(-4,4)]}\n",
        "alpha_log = [math.log(x,10) for x in grid_params[\"alpha\"]]\n",
        "\n",
        "MultinomialNB_model = GridSearchCV(MultinomialNB(),grid_params,\n",
        "                     scoring = 'roc_auc', cv=10,n_jobs=-1, return_train_score=True)\n",
        "MultinomialNB_model.fit(X_train, y_train)\n",
        "\n",
        "results = pd.DataFrame.from_dict(MultinomialNB_model.cv_results_)\n",
        "results = results.sort_values(['param_alpha'])"
      ],
      "execution_count": 68,
      "outputs": []
    },
    {
      "cell_type": "markdown",
      "metadata": {
        "id": "JmmL-C58j04B"
      },
      "source": [
        "## Output"
      ]
    },
    {
      "cell_type": "markdown",
      "metadata": {
        "id": "kbSqcNVbah4r"
      },
      "source": [
        "And finally print the results."
      ]
    },
    {
      "cell_type": "code",
      "metadata": {
        "id": "P9YjacCzNdbP",
        "colab": {
          "base_uri": "https://localhost:8080/",
          "height": 298
        },
        "outputId": "84960728-a521-4edc-b0a9-7782eff2c81e"
      },
      "source": [
        "import matplotlib.pyplot as plt\n",
        "\n",
        "plt.plot(alpha_log, results[\"mean_train_score\"], label='Train AUC')\n",
        "plt.plot(alpha_log, results[\"mean_test_score\"].values, label='Test AUC')\n",
        "\n",
        "plt.scatter(alpha_log, results[\"mean_train_score\"].values, label='Train AUC points')\n",
        "plt.scatter(alpha_log, results[\"mean_test_score\"].values, label='Test AUC points')\n",
        "\n",
        "plt.legend()\n",
        "plt.ylabel(\"AUC\")\n",
        "plt.title(\"Results\")\n",
        "plt.grid()\n",
        "plt.show()\n",
        "print(MultinomialNB_model.best_estimator_)"
      ],
      "execution_count": 70,
      "outputs": [
        {
          "output_type": "display_data",
          "data": {
            "image/png": "[encoded data removed]",
            "text/plain": [
              "<Figure size 432x288 with 1 Axes>"
            ]
          },
          "metadata": {
            "tags": [],
            "needs_background": "light"
          }
        },
        {
          "output_type": "stream",
          "text": [
            "MultinomialNB(alpha=0.1, class_prior=None, fit_prior=True)\n"
          ],
          "name": "stdout"
        }
      ]
    },
    {
      "cell_type": "markdown",
      "metadata": {
        "id": "rbxZv03UQvpM"
      },
      "source": [
        "---\n",
        "# Conclusion\n",
        "---\n",
        "### Results\n",
        "\n",
        "As displayed in the graph above our results were very close to the test data frame. The resultant lines demostrate the mean fit for the test (yellow) and train (blue). The train fit was slightly above the test.\n",
        "\n",
        "---\n",
        "### Resonings\n",
        "\n",
        "I think my results were slightly off because I chose a simpler classification algorithm. Naive Bays was probably not the best way of classifying this data, but it was the easiest for me to understand, implement and graph.\n",
        "\n",
        "---\n",
        "### Behind the scenes\n",
        "\n",
        "Some of the main technologies used in this were Tensorflow, Pandas, and Numpy. The classification method I decided on was Naive Bays, mainly because of the simplicity of the records. For validations and modeling I followed a similar path as the example that was provided in the assignment document."
      ]
    }
  ]
}